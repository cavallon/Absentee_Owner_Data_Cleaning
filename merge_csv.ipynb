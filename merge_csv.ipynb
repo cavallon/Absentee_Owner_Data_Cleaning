{
 "cells": [
  {
   "cell_type": "code",
   "execution_count": 1,
   "metadata": {},
   "outputs": [],
   "source": [
    "import pandas as pd\n",
    "import glob\n"
   ]
  },
  {
   "cell_type": "code",
   "execution_count": 6,
   "metadata": {},
   "outputs": [],
   "source": [
    "# Step 1: Use glob to find all CSV files in the specified folder\n",
    "file_paths = glob.glob(\"C:/Users/chris/Desktop/Data_Projects/Absentee_Owner_Data_Cleaning/Resources/csv_files/*.csv\")"
   ]
  },
  {
   "cell_type": "code",
   "execution_count": 7,
   "metadata": {},
   "outputs": [],
   "source": [
    "# Check if any files were found\n",
    "if not file_paths:\n",
    "    print(\"No CSV files found in the specified directory.\")\n",
    "else:\n",
    "    # Step 2: Read each CSV file and store it in a list of DataFrames\n",
    "    dfs = [pd.read_csv(file) for file in file_paths]"
   ]
  },
  {
   "cell_type": "code",
   "execution_count": 8,
   "metadata": {},
   "outputs": [],
   "source": [
    "# Step 3: Concatenate all DataFrames into one\n",
    "combined_df = pd.concat(dfs, ignore_index=True)"
   ]
  },
  {
   "cell_type": "code",
   "execution_count": 9,
   "metadata": {},
   "outputs": [
    {
     "name": "stdout",
     "output_type": "stream",
     "text": [
      "CSV files have been successfully merged!\n"
     ]
    }
   ],
   "source": [
    "# Step 4: Write the combined DataFrame to a new CSV file\n",
    "combined_df.to_csv(\"burl_camden_hunt_mercer_absentee_owners.csv\", index=False)\n",
    "\n",
    "print(\"CSV files have been successfully merged!\")"
   ]
  }
 ],
 "metadata": {
  "kernelspec": {
   "display_name": "dev",
   "language": "python",
   "name": "python3"
  },
  "language_info": {
   "codemirror_mode": {
    "name": "ipython",
    "version": 3
   },
   "file_extension": ".py",
   "mimetype": "text/x-python",
   "name": "python",
   "nbconvert_exporter": "python",
   "pygments_lexer": "ipython3",
   "version": "3.10.13"
  }
 },
 "nbformat": 4,
 "nbformat_minor": 2
}
