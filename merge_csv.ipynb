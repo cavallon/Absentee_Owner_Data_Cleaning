{
 "cells": [
  {
   "cell_type": "code",
   "execution_count": 1,
   "metadata": {},
   "outputs": [],
   "source": [
    "import pandas as pd\n",
    "import glob"
   ]
  },
  {
   "cell_type": "code",
   "execution_count": 8,
   "metadata": {},
   "outputs": [],
   "source": [
    "# Step 1: Use glob to find all CSV files in the specified folder\n",
    "file_paths = glob.glob(\"C:/Users/chris/Desktop/Data_Projects/Absentee_Owner_Data_Cleaning/Resources/5_mile_radius_emails/*.csv\")\n",
    "#C:/Users/chris/Desktop/Data_Projects/Absentee_Owner_Data_Cleaning/Resources/property_management_businesses"
   ]
  },
  {
   "cell_type": "code",
   "execution_count": 9,
   "metadata": {},
   "outputs": [],
   "source": [
    "# Check if any files were found\n",
    "if not file_paths:\n",
    "    print(\"No CSV files found in the specified directory.\")\n",
    "else:\n",
    "    # Step 2: Read each CSV file and store it in a list of DataFrames\n",
    "    dfs = [pd.read_csv(file) for file in file_paths]"
   ]
  },
  {
   "cell_type": "code",
   "execution_count": 10,
   "metadata": {},
   "outputs": [],
   "source": [
    "# Step 3: Concatenate all DataFrames into one\n",
    "combined_df = pd.concat(dfs, ignore_index=True)"
   ]
  },
  {
   "cell_type": "code",
   "execution_count": null,
   "metadata": {},
   "outputs": [],
   "source": [
    "#Reformat Phone Numbers (for agent emails list)\n",
    "#combined_df['Preferred Phone'] = combined_df['Preferred Phone'].str.replace(r'\\((\\d{3})\\)\\s', r'\\1-', regex=True)\n"
   ]
  },
  {
   "cell_type": "code",
   "execution_count": null,
   "metadata": {},
   "outputs": [
    {
     "data": {
      "text/html": [
       "<div>\n",
       "<style scoped>\n",
       "    .dataframe tbody tr th:only-of-type {\n",
       "        vertical-align: middle;\n",
       "    }\n",
       "\n",
       "    .dataframe tbody tr th {\n",
       "        vertical-align: top;\n",
       "    }\n",
       "\n",
       "    .dataframe thead th {\n",
       "        text-align: right;\n",
       "    }\n",
       "</style>\n",
       "<table border=\"1\" class=\"dataframe\">\n",
       "  <thead>\n",
       "    <tr style=\"text-align: right;\">\n",
       "      <th></th>\n",
       "      <th>Unnamed: 0</th>\n",
       "      <th>Name</th>\n",
       "      <th>First Name</th>\n",
       "      <th>Last Name</th>\n",
       "      <th>Brokerage</th>\n",
       "      <th>Email</th>\n",
       "      <th>Preferred Phone</th>\n",
       "    </tr>\n",
       "  </thead>\n",
       "  <tbody>\n",
       "    <tr>\n",
       "      <th>0</th>\n",
       "      <td>0</td>\n",
       "      <td>Aaron Segal</td>\n",
       "      <td>Aaron</td>\n",
       "      <td>Segal</td>\n",
       "      <td>Keypoint Realty LLC</td>\n",
       "      <td>aaron@keypointrealty.com</td>\n",
       "      <td>732-719-9768</td>\n",
       "    </tr>\n",
       "    <tr>\n",
       "      <th>1</th>\n",
       "      <td>1</td>\n",
       "      <td>Aarti Walia</td>\n",
       "      <td>Aarti</td>\n",
       "      <td>Walia</td>\n",
       "      <td>Keller Williams Cornerstone Realty</td>\n",
       "      <td>aarti.walia@kw.com</td>\n",
       "      <td>732-688-9401</td>\n",
       "    </tr>\n",
       "    <tr>\n",
       "      <th>2</th>\n",
       "      <td>2</td>\n",
       "      <td>Abby Taye</td>\n",
       "      <td>Abby</td>\n",
       "      <td>Taye</td>\n",
       "      <td>Weichert Realtors - Edison</td>\n",
       "      <td>abbysellsnj@gmail.com</td>\n",
       "      <td>908-977-6452</td>\n",
       "    </tr>\n",
       "    <tr>\n",
       "      <th>3</th>\n",
       "      <td>3</td>\n",
       "      <td>Abraham Sharaby</td>\n",
       "      <td>Abraham</td>\n",
       "      <td>Sharaby</td>\n",
       "      <td>Keller Williams Realty Monmouth/Ocean</td>\n",
       "      <td>abraham@jade-cap.com</td>\n",
       "      <td>973-863-0424</td>\n",
       "    </tr>\n",
       "    <tr>\n",
       "      <th>4</th>\n",
       "      <td>4</td>\n",
       "      <td>Adam Chu</td>\n",
       "      <td>Adam</td>\n",
       "      <td>Chu</td>\n",
       "      <td>Weichert Realtors-Branchburg</td>\n",
       "      <td>adamchu88@gmail.com</td>\n",
       "      <td>908-526-5444</td>\n",
       "    </tr>\n",
       "  </tbody>\n",
       "</table>\n",
       "</div>"
      ],
      "text/plain": [
       "   Unnamed: 0             Name First Name Last Name  \\\n",
       "0           0      Aaron Segal      Aaron     Segal   \n",
       "1           1      Aarti Walia      Aarti     Walia   \n",
       "2           2        Abby Taye       Abby      Taye   \n",
       "3           3  Abraham Sharaby    Abraham   Sharaby   \n",
       "4           4         Adam Chu       Adam       Chu   \n",
       "\n",
       "                               Brokerage                     Email  \\\n",
       "0                    Keypoint Realty LLC  aaron@keypointrealty.com   \n",
       "1     Keller Williams Cornerstone Realty        aarti.walia@kw.com   \n",
       "2             Weichert Realtors - Edison     abbysellsnj@gmail.com   \n",
       "3  Keller Williams Realty Monmouth/Ocean      abraham@jade-cap.com   \n",
       "4           Weichert Realtors-Branchburg       adamchu88@gmail.com   \n",
       "\n",
       "  Preferred Phone  \n",
       "0    732-719-9768  \n",
       "1    732-688-9401  \n",
       "2    908-977-6452  \n",
       "3    973-863-0424  \n",
       "4    908-526-5444  "
      ]
     },
     "execution_count": 12,
     "metadata": {},
     "output_type": "execute_result"
    }
   ],
   "source": [
    "#Preview data if needed\n",
    "#combined_df.head()"
   ]
  },
  {
   "cell_type": "code",
   "execution_count": 13,
   "metadata": {},
   "outputs": [
    {
     "name": "stdout",
     "output_type": "stream",
     "text": [
      "CSV files have been successfully merged!\n"
     ]
    }
   ],
   "source": [
    "# Step 4: Write the combined DataFrame to a new CSV file\n",
    "combined_df.to_csv(\"REAgents_5_mile_radius.csv\", index=False)\n",
    "\n",
    "print(\"CSV files have been successfully merged!\")"
   ]
  }
 ],
 "metadata": {
  "kernelspec": {
   "display_name": "dev",
   "language": "python",
   "name": "python3"
  },
  "language_info": {
   "codemirror_mode": {
    "name": "ipython",
    "version": 3
   },
   "file_extension": ".py",
   "mimetype": "text/x-python",
   "name": "python",
   "nbconvert_exporter": "python",
   "pygments_lexer": "ipython3",
   "version": "3.10.13"
  }
 },
 "nbformat": 4,
 "nbformat_minor": 2
}
